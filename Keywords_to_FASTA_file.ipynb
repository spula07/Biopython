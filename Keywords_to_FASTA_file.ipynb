{
 "cells": [
  {
   "cell_type": "code",
   "execution_count": null,
   "metadata": {},
   "outputs": [],
   "source": [
    "'''Searching keywords in GenBank database (\"Varroa destructor\", \"cox3\").\n",
    "Script displays number of records.\n",
    "Next we are choosing top 5 records and saving into .fasta file'''\n",
    "\n",
    "from Bio import Entrez\n",
    "from Bio import SeqIO\n",
    "'''Entrez.email = \"...@..\"'''\n",
    "handle = Entrez.esearch(db=\"nucleotide\", term=\"Varroa destructor AND cox3\")\n",
    "records = Entrez.read(handle)\n",
    "print(records['Count'])\n",
    "top5_records = records ['IdList'][0:5]\n",
    "print (top5_records)\n",
    "top5_list = ','.join(top5_records)\n",
    "print(top5_list)\n",
    "handle = Entrez.efetch(db=\"nucleotide\", id=top5_list, rettype=\"fasta\", retmode=\"text\")\n",
    "output_file = open(\"Zadanie2.fasta\", \"w\")\n",
    "for line in handle:\n",
    "    output_file.write(line)\n",
    "output_file.close()\n",
    "handle.close()"
   ]
  }
 ],
 "metadata": {
  "kernelspec": {
   "display_name": "Python 3",
   "language": "python",
   "name": "python3"
  },
  "language_info": {
   "codemirror_mode": {
    "name": "ipython",
    "version": 3
   },
   "file_extension": ".py",
   "mimetype": "text/x-python",
   "name": "python",
   "nbconvert_exporter": "python",
   "pygments_lexer": "ipython3",
   "version": "3.7.7"
  }
 },
 "nbformat": 4,
 "nbformat_minor": 4
}
