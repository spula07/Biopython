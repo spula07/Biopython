{
 "cells": [
  {
   "cell_type": "code",
   "execution_count": null,
   "metadata": {},
   "outputs": [],
   "source": [
    "'''Parsing file from GenBank (.gbk).\n",
    "This time: AF042286.gbk and you have to download this file.\n",
    "Script displays length of this sequence and saves into .fasta file.'''\n",
    "from Bio import SeqIO\n",
    "genbank_file = open(\"AF042286.gbk\")\n",
    "output_file = open(\"AF042286.fasta\", \"w\")\n",
    "records = SeqIO.parse(genbank_file, \"genbank\")\n",
    "for seq_rec in records:\n",
    "    print(seq_rec.id)\n",
    "    print(str(len(seq_rec)) + \" \" + \"par zasad.\")\n",
    "genbank_file = open(\"AF042286.gbk\", \"r\")\n",
    "records = SeqIO.parse(genbank_file, \"genbank\")\n",
    "SeqIO.write(records, output_file, \"fasta\")\n",
    "output_file.close()"
   ]
  }
 ],
 "metadata": {
  "kernelspec": {
   "display_name": "Python 3",
   "language": "python",
   "name": "python3"
  },
  "language_info": {
   "codemirror_mode": {
    "name": "ipython",
    "version": 3
   },
   "file_extension": ".py",
   "mimetype": "text/x-python",
   "name": "python",
   "nbconvert_exporter": "python",
   "pygments_lexer": "ipython3",
   "version": "3.7.7"
  }
 },
 "nbformat": 4,
 "nbformat_minor": 4
}
